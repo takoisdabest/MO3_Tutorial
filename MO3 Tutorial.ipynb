{
 "cells": [
  {
   "cell_type": "code",
   "execution_count": null,
   "id": "395cd13c-6203-42b6-9a38-692e0166942a",
   "metadata": {},
   "outputs": [],
   "source": [
    "#Sorting\n",
    "class Solution:\n",
    "    def sort012(self,arr,n):\n",
    "        return arr.sort()"
   ]
  },
  {
   "cell_type": "code",
   "execution_count": null,
   "id": "f9e72d83-804a-435e-ba14-5d3f07af872a",
   "metadata": {},
   "outputs": [],
   "source": [
    "#Binary\n",
    "class Solution:    \n",
    "    def binarysearch(self, arr, n, k):\n",
    "        low , high = 0 , n - 1\n",
    "        while low <= high : \n",
    "            mid = low + (high - low) // 2\n",
    "            if arr[mid] == k:\n",
    "                return mid\n",
    "            elif arr[mid] < k :\n",
    "                low = mid + 1\n",
    "            else : \n",
    "                high = mid - 1\n",
    "        return -1 "
   ]
  }
 ],
 "metadata": {
  "kernelspec": {
   "display_name": "Python 3 (ipykernel)",
   "language": "python",
   "name": "python3"
  },
  "language_info": {
   "codemirror_mode": {
    "name": "ipython",
    "version": 3
   },
   "file_extension": ".py",
   "mimetype": "text/x-python",
   "name": "python",
   "nbconvert_exporter": "python",
   "pygments_lexer": "ipython3",
   "version": "3.11.7"
  }
 },
 "nbformat": 4,
 "nbformat_minor": 5
}
